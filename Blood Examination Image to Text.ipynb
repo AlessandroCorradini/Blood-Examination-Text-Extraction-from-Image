{
 "cells": [
  {
   "cell_type": "markdown",
   "metadata": {},
   "source": [
    "# Blood examination extraction with Tesseract"
   ]
  },
  {
   "cell_type": "markdown",
   "metadata": {},
   "source": [
    "The original PDF document isn't published for privacy reasons."
   ]
  },
  {
   "cell_type": "code",
   "execution_count": 6,
   "metadata": {},
   "outputs": [],
   "source": [
    "# generating image for tesseract\n",
    "\n",
    "# from pdf2image import convert_from_path\n",
    "# pages = convert_from_path(\"F:/referto-1.pdf\", 300)"
   ]
  },
  {
   "cell_type": "code",
   "execution_count": 7,
   "metadata": {},
   "outputs": [],
   "source": [
    "# saving the generated images to JPG's\n",
    "\n",
    "# n=1\n",
    "# jpegs = list()\n",
    "\n",
    "#for page in pages:\n",
    "#    current_page_name = \"referto-%d.jpg\" % n\n",
    "#    jpegs.append(current_page_name)\n",
    "#    page.save(current_page_name, 'JPEG')\n",
    "#    n=n+1"
   ]
  },
  {
   "cell_type": "code",
   "execution_count": 16,
   "metadata": {},
   "outputs": [
    {
     "name": "stdout",
     "output_type": "stream",
     "text": [
      "è 0084000\n",
      "\n",
      "SERVIZIO SANITARIO REGIONALE\n",
      "\n",
      "   \n",
      "\n",
      ":          EMILIA-ROMAGNA\n",
      "si     e         Azienda Unita Sanitaria Locale di Modena\n",
      "ss     22111 Azienda Ospedaliero-Universitaria Policlinico di Modena\n",
      "\n",
      "Direttore dr. T.Trenti\n",
      "Ospedale Civile S.Agostino-Estense\n",
      "S.C. Medicina di Laboratorio\n",
      "S.S. Patologia Clinica - Corelab\n",
      "\n",
      "Sistema di Gestione per la Qualità certificato UNI EN ISO 9001:2015\n",
      "Responsabile dr.ssa M.Varani\n",
      "\n",
      "Pagina 1 di 3\n",
      "\n",
      "\"ve\n",
      "Dipartimento interaziendale ad attività integrata di Medicina di Laboratorio e Anatomia Patologica\n",
      "\n",
      " \n",
      "\n",
      " \n",
      "\n",
      " \n",
      "\n",
      " \n",
      "\n",
      " \n",
      "\n",
      " \n",
      "\n",
      " \n",
      "\n",
      "Richiesta (CDA): 49/073914                     Data di accettazione: 18/12/2018\n",
      "\n",
      "Data di check-in:    18/12/2018 10:27:06\n",
      "\n",
      "Referto del              18/12/2018 16:39:53\n",
      "\n",
      "Provenienza:\n",
      "\n",
      "Sig.\n",
      "\n",
      "Data di Nascita:\n",
      "\n",
      "Domicilio:\n",
      "ANALISI                                                                                                            RISULTATO UNITA’ DI MISURA          VALORI DI RIFERIMENTO\n",
      "\n",
      "Emocromo con formula\n",
      "\n",
      "Globuli Bianchi                             7.50   migl./mme     ( 4.00 - 10.90 )\n",
      "Globuli Rossi                              4.75   mil./mmc      ( 4.50 — 5.90 )\n",
      "Emoglobina                               14.7   g/dl          ( 13,5 © 17,5)\n",
      "Ematocrito                               43.1   %           ( 41.0 - 53.0 )\n",
      "MCV                                   90.6   fl           ( 80.0 - 99.0 )\n",
      "MCH                                    30.9   pg           ( 26.0 - 36.0 )\n",
      "MCHC                                  34.1   g/dl          ( 31.0 - 37.0 )\n",
      "RDW                                   12.4 * cv%         (12.6 - 15.8 )\n",
      "Piastrine                                 263   migl./mme     ( 150 - 450 )\n",
      "MPV                                    8.8   fl            ( 6.3 - 12.5 )\n",
      "Gr.Neutrofili                                44.9   %\n",
      "Linfociti                                   44.3   %\n",
      "Monociti                                   7.8   %\n",
      "Gr.Eosinofili                                2.3   %\n",
      "Gr.Basofili                                  0.7   %\n",
      "Gr.Neutrofili                               3.37   migl./mme     ( 1.80 - 7.70 )\n",
      "Linfociti                                  3.32   migl./mmc     (1.00 - 4.50 )\n",
      "Monociti                                 0.59   migl./mmc     ( 0.10 - 1.00 )\n",
      "Gr.Eosinofili                               0.17   migl./mmce     ( 0.04 - 0.40 )\n",
      "Gr.Basofili                                0.05   migl./mmc     (0 - 0.10 )\n",
      "\n",
      " \n",
      "\n",
      "Per ogni informazione o chiarimento sugli aspetti medici, può rivolgersi al suo medico curante\n",
      "\n",
      "Referto firmato elettronicamente secondo le norme vigenti: Legge 15 marzo 1997, n. 59; D.P.R. 10 novembre 1997, n.513;\n",
      "\n",
      "D.P.C.M. 8 febbraio 1999; D.P.R 28 dicembre 2000, n.445; D.L. 23 gennaio 2002, n.10.\n",
      "Certificato rilasciato da: Infocamere S.C.p.A. (http://www.card.infocamere. it)\n",
      "Il Laureato: Dr. CRISTINA ROTA\n",
      "\n",
      "Il documento informatico originale è conservato presso Parer - Polo Archivistico della Regione Emilia-Romagna\n"
     ]
    }
   ],
   "source": [
    "from PIL import Image\n",
    "import pytesseract\n",
    "\n",
    "# path to your local tesseract\n",
    "\n",
    "pytesseract.pytesseract.tesseract_cmd = r'C:\\Program Files\\Tesseract-OCR\\tesseract'\n",
    "\n",
    "# Preserve interword spaces is set to 1, oem = 1 is LSTM, \n",
    "# PSM = 1 is Automatic page segmentation with OSD - Orientation and script detection\n",
    "\n",
    "custom_config = r'-c preserve_interword_spaces=1 --oem 1 --psm 1 -l eng+ita'\n",
    "\n",
    "# default_config = r'-c -l eng+ita'\n",
    "\n",
    "extracted_text = pytesseract.image_to_string(Image.open('referto-1.jpg'), config=custom_config)\n",
    "\n",
    "print(extracted_text)\n",
    "\n",
    "# saving to a txt file\n",
    "\n",
    "with open(\"referto.txt\", \"w\") as text_file:\n",
    "    text_file.write(extracted_text)"
   ]
  },
  {
   "cell_type": "code",
   "execution_count": null,
   "metadata": {},
   "outputs": [],
   "source": []
  }
 ],
 "metadata": {
  "kernelspec": {
   "display_name": "Python 3",
   "language": "python",
   "name": "python3"
  },
  "language_info": {
   "codemirror_mode": {
    "name": "ipython",
    "version": 3
   },
   "file_extension": ".py",
   "mimetype": "text/x-python",
   "name": "python",
   "nbconvert_exporter": "python",
   "pygments_lexer": "ipython3",
   "version": "3.7.4"
  }
 },
 "nbformat": 4,
 "nbformat_minor": 2
}
